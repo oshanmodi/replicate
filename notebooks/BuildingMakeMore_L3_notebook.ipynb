{
 "cells": [
  {
   "cell_type": "code",
   "execution_count": 11,
   "metadata": {},
   "outputs": [],
   "source": [
    "import torch\n",
    "import matplotlib.pyplot as plt\n",
    "\n",
    "%matplotlib inline"
   ]
  },
  {
   "cell_type": "code",
   "execution_count": 55,
   "metadata": {},
   "outputs": [],
   "source": [
    "random_seed=12321132"
   ]
  },
  {
   "cell_type": "code",
   "execution_count": 12,
   "metadata": {},
   "outputs": [
    {
     "data": {
      "text/plain": [
       "['emma', 'olivia', 'ava', 'isabella']"
      ]
     },
     "execution_count": 12,
     "metadata": {},
     "output_type": "execute_result"
    }
   ],
   "source": [
    "words = open(\"names.txt\", 'r').read().splitlines()\n",
    "\n",
    "words[:4]"
   ]
  },
  {
   "cell_type": "markdown",
   "metadata": {},
   "source": [
    "## MLP"
   ]
  },
  {
   "cell_type": "markdown",
   "metadata": {},
   "source": [
    "Implementation - \n",
    "\n",
    "1. Create training data - Xs and Ys. Depending upon the context length, we need to create a training data.\n",
    "2. Initialise the weights\n",
    "3. Forward pass -\n",
    "   1. Calculate the logits\n",
    "   2. Calculate the losss  \n",
    "4. Backward pass -\n",
    "   1. Calculate the gradients\n",
    "5. Update the weights"
   ]
  },
  {
   "cell_type": "markdown",
   "metadata": {},
   "source": [
    "### Create Training data"
   ]
  },
  {
   "cell_type": "code",
   "execution_count": 33,
   "metadata": {},
   "outputs": [],
   "source": [
    "chrs = sorted(list(set(''.join(words))))\n",
    "stoi = {s:i+1 for i,s in enumerate(chrs)}\n",
    "stoi['.'] = 0\n",
    "itos = {i:s for s,i in stoi.items()}"
   ]
  },
  {
   "cell_type": "code",
   "execution_count": 53,
   "metadata": {},
   "outputs": [
    {
     "name": "stdout",
     "output_type": "stream",
     "text": [
      "... ===> e\n",
      "..e ===> m\n",
      ".em ===> m\n",
      "emm ===> a\n",
      "mma ===> .\n"
     ]
    }
   ],
   "source": [
    "Xs, Ys = [],[]\n",
    "\n",
    "block_size = 3 # context length\n",
    "n_emb = 2      # embedding size for all inputs\n",
    "n_hidden = 100 # count of neurons in hidden layer.\n",
    "\n",
    "for w in words[:1]:\n",
    "    w += '.'\n",
    "    context = [0] * block_size\n",
    "    for s in w:\n",
    "        ix = stoi[s]\n",
    "        Xs.append(context)\n",
    "        Ys.append(ix)\n",
    "        print(f'{\"\".join(itos[i] for i in context)} ===> {s}')\n",
    "        context = context[1:] + [ix]\n",
    "\n",
    "Xs = torch.tensor(Xs)\n",
    "Ys = torch.tensor(Ys)"
   ]
  },
  {
   "cell_type": "markdown",
   "metadata": {},
   "source": [
    "### Initialise the Weights"
   ]
  },
  {
   "cell_type": "code",
   "execution_count": 78,
   "metadata": {},
   "outputs": [],
   "source": [
    "g = torch.Generator().manual_seed(random_seed)\n",
    "\n",
    "n_pi = len(stoi)                                                 # count of possible input values\n",
    "C = torch.randn((n_pi, n_emb), generator = g)                    # embedding matrix\n",
    "W1 = torch.randn((block_size * n_emb, n_hidden),generator = g)   # hidden layer weights\n",
    "b1 = torch.randn((n_hidden), generator = g)                      # hidden layer biases\n",
    "W2 = torch.randn((n_hidden, n_pi), generator = g)                # output layer weights\n",
    "b2 = torch.randn((n_pi), generator = g)                          # output layer biases"
   ]
  },
  {
   "cell_type": "markdown",
   "metadata": {},
   "source": [
    "### Forward pass"
   ]
  },
  {
   "cell_type": "code",
   "execution_count": 82,
   "metadata": {},
   "outputs": [
    {
     "data": {
      "text/plain": [
       "(torch.Size([5, 3, 2]), torch.Size([5, 100]), torch.Size([5, 27]))"
      ]
     },
     "execution_count": 82,
     "metadata": {},
     "output_type": "execute_result"
    }
   ],
   "source": [
    "emb = C[Xs]\n",
    "h = torch.tanh(emb.view(-1,block_size * n_emb) @ W1 + b1)\n",
    "logits = h @ W2 + b2\n",
    "e = torch.exp(logits)\n",
    "probs = (e/e.sum(1, keepdim=True))\n",
    "probs[torch.arange(probs.shape[0]), Ys]\n",
    "loss = F.cross_entropy(logits, Ys)\n",
    "\n",
    "emb.shape, h.shape, logits.shape, "
   ]
  },
  {
   "cell_type": "code",
   "execution_count": 85,
   "metadata": {},
   "outputs": [
    {
     "data": {
      "text/plain": [
       "torch.Size([5, 27])"
      ]
     },
     "execution_count": 85,
     "metadata": {},
     "output_type": "execute_result"
    }
   ],
   "source": [
    "probs.shape"
   ]
  },
  {
   "cell_type": "code",
   "execution_count": 88,
   "metadata": {},
   "outputs": [
    {
     "data": {
      "text/plain": [
       "tensor([2.3052e-07, 1.3760e-05, 1.9607e-06, 4.1155e-10, 1.1659e-02])"
      ]
     },
     "execution_count": 88,
     "metadata": {},
     "output_type": "execute_result"
    }
   ],
   "source": []
  },
  {
   "cell_type": "code",
   "execution_count": null,
   "metadata": {},
   "outputs": [],
   "source": []
  }
 ],
 "metadata": {
  "kernelspec": {
   "display_name": "Python 3 (ipykernel)",
   "language": "python",
   "name": "python3"
  },
  "language_info": {
   "codemirror_mode": {
    "name": "ipython",
    "version": 3
   },
   "file_extension": ".py",
   "mimetype": "text/x-python",
   "name": "python",
   "nbconvert_exporter": "python",
   "pygments_lexer": "ipython3",
   "version": "3.9.16"
  }
 },
 "nbformat": 4,
 "nbformat_minor": 4
}

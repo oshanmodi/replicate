{
 "cells": [
  {
   "cell_type": "code",
   "execution_count": 1,
   "metadata": {},
   "outputs": [],
   "source": [
    "import torch\n",
    "import matplotlib.pyplot as plt\n",
    "import torch.nn.functional as F\n",
    "%matplotlib inline"
   ]
  },
  {
   "cell_type": "code",
   "execution_count": 2,
   "metadata": {},
   "outputs": [],
   "source": [
    "random_seed=12321132"
   ]
  },
  {
   "cell_type": "code",
   "execution_count": 3,
   "metadata": {},
   "outputs": [
    {
     "data": {
      "text/plain": [
       "['emma', 'olivia', 'ava', 'isabella']"
      ]
     },
     "execution_count": 3,
     "metadata": {},
     "output_type": "execute_result"
    }
   ],
   "source": [
    "words = open(\"names.txt\", 'r').read().splitlines()\n",
    "\n",
    "words[:4]"
   ]
  },
  {
   "cell_type": "markdown",
   "metadata": {},
   "source": [
    "## MLP"
   ]
  },
  {
   "cell_type": "markdown",
   "metadata": {},
   "source": [
    "Implementation - \n",
    "\n",
    "1. Create training data - Xs and Ys. Depending upon the context length, we need to create a training data.\n",
    "2. Initialise the weights\n",
    "3. Forward pass -\n",
    "   1. Calculate the logits\n",
    "   2. Calculate the losss  \n",
    "4. Backward pass -\n",
    "   1. Calculate the gradients\n",
    "5. Update the weights"
   ]
  },
  {
   "cell_type": "markdown",
   "metadata": {},
   "source": [
    "### Create Training data"
   ]
  },
  {
   "cell_type": "code",
   "execution_count": 4,
   "metadata": {},
   "outputs": [],
   "source": [
    "chrs = sorted(list(set(''.join(words))))\n",
    "stoi = {s:i+1 for i,s in enumerate(chrs)}\n",
    "stoi['.'] = 0\n",
    "itos = {i:s for s,i in stoi.items()}\n",
    "\n",
    "vocab_size = len(stoi)"
   ]
  },
  {
   "cell_type": "code",
   "execution_count": 5,
   "metadata": {},
   "outputs": [
    {
     "name": "stdout",
     "output_type": "stream",
     "text": [
      "torch.Size([182429, 3]) torch.Size([182429])\n",
      "torch.Size([22919, 3]) torch.Size([22919])\n",
      "torch.Size([22798, 3]) torch.Size([22798])\n"
     ]
    }
   ],
   "source": [
    "block_size = 3 # context length\n",
    "\n",
    "def build_dataset(words):\n",
    "    X, Y = [], []\n",
    "    for w in words:\n",
    "        w += '.'\n",
    "        context = [0] * block_size\n",
    "        for s in w:\n",
    "            ix = stoi[s]\n",
    "            X.append(context)\n",
    "            Y.append(ix)\n",
    "            # print(f'{\"\".join(itos[i] for i in context)} ===> {s}')\n",
    "            context = context[1:] + [ix]\n",
    "    \n",
    "    X = torch.tensor(X)\n",
    "    Y = torch.tensor(Y)\n",
    "    print(X.shape, Y.shape)\n",
    "    return X, Y\n",
    "\n",
    "import random\n",
    "random.seed(random_seed)\n",
    "random.shuffle(words)\n",
    "n1 = int(0.8*len(words))\n",
    "n2 = int(0.9*len(words))\n",
    "\n",
    "Xtr, Ytr   = build_dataset(words[:n1])\n",
    "Xdev, Ydev = build_dataset(words[n1:n2])\n",
    "Xte, Yte   = build_dataset(words[n2:])"
   ]
  },
  {
   "cell_type": "markdown",
   "metadata": {},
   "source": [
    "### Initialise the Weights"
   ]
  },
  {
   "cell_type": "code",
   "execution_count": 6,
   "metadata": {},
   "outputs": [
    {
     "name": "stdout",
     "output_type": "stream",
     "text": [
      "11897\n"
     ]
    }
   ],
   "source": [
    "n_emb = 10      # embedding size for all inputs\n",
    "n_hidden = 200 # count of neurons in hidden layer.\n",
    "\n",
    "g = torch.Generator().manual_seed(random_seed)\n",
    "\n",
    "C = torch.randn((vocab_size, n_emb),               generator = g)                # embedding matrix\n",
    "W1 = torch.randn((block_size * n_emb, n_hidden),   generator = g)                # hidden layer weights\n",
    "b1 = torch.randn((n_hidden),                       generator = g)                # hidden layer biases\n",
    "W2 = torch.randn((n_hidden, vocab_size),           generator = g)  * 0.01              # output layer weights\n",
    "b2 = torch.randn((vocab_size),                     generator = g)  * 0              # output layer biases\n",
    "\n",
    "parameters = [C, W1, b1, W2, b2]\n",
    "print(sum(p.nelement() for p in parameters))\n",
    "for p in parameters:\n",
    "    p.requires_grad=True"
   ]
  },
  {
   "cell_type": "markdown",
   "metadata": {},
   "source": [
    "### Forward pass"
   ]
  },
  {
   "cell_type": "code",
   "execution_count": 8,
   "metadata": {},
   "outputs": [
    {
     "name": "stdout",
     "output_type": "stream",
     "text": [
      "      0/ 200000 : 3.1799\n",
      "  10000/ 200000 : 2.2195\n",
      "  20000/ 200000 : 2.4954\n",
      "  30000/ 200000 : 2.5870\n",
      "  40000/ 200000 : 2.1125\n",
      "  50000/ 200000 : 2.2653\n",
      "  60000/ 200000 : 2.0782\n",
      "  70000/ 200000 : 2.5015\n",
      "  80000/ 200000 : 2.6809\n",
      "  90000/ 200000 : 2.6987\n",
      " 100000/ 200000 : 2.8157\n",
      " 110000/ 200000 : 2.2897\n",
      " 120000/ 200000 : 2.1982\n",
      " 130000/ 200000 : 1.9039\n",
      " 140000/ 200000 : 1.9027\n",
      " 150000/ 200000 : 1.6206\n",
      " 160000/ 200000 : 1.5514\n",
      " 170000/ 200000 : 1.7962\n",
      " 180000/ 200000 : 2.2288\n",
      " 190000/ 200000 : 1.9530\n"
     ]
    }
   ],
   "source": [
    "max_steps  = 200_000\n",
    "batch_size = 32\n",
    "lossi      = []\n",
    "\n",
    "for i in range(max_steps):\n",
    "    # construct minibatch\n",
    "    ix = torch.randint(0, Xtr.shape[0], (batch_size,), generator = g)\n",
    "    Xb, Yb = Xtr[ix], Ytr[ix]\n",
    "    \n",
    "    # forward pass\n",
    "    emb = C[Xb]\n",
    "    embcat = emb.view(emb.shape[0],-1)\n",
    "    hpreact = embcat @ W1 + b1\n",
    "    h = torch.tanh(hpreact)\n",
    "    logits = h @ W2 + b2\n",
    "    loss = F.cross_entropy(logits, Yb)\n",
    "    \n",
    "    # backward pass\n",
    "    for p in parameters:\n",
    "        p.grad = None\n",
    "    loss.backward()\n",
    "    \n",
    "    # update weights\n",
    "    lr = 10**-.5 if i < 100_000 else 10**-1.5 #if i <170_000 else 10**-2.5\n",
    "    for p in parameters:\n",
    "        p.data += - lr * p.grad\n",
    "\n",
    "    # track stats\n",
    "    if i % 10_000 ==0:\n",
    "        print(f\"{i:7d}/{max_steps:7d} : {loss.item():.4f}\")\n",
    "    lossi.append(loss.log10().item())\n",
    "\n",
    "    # break\n",
    "# e = torch.exp(logits)\n",
    "# probs = (e/e.sum(1, keepdim=True))\n",
    "# probs[torch.arange(probs.shape[0]), Ytr]\n",
    "\n",
    "# emb.shape, h.shape, logits.shape, "
   ]
  },
  {
   "cell_type": "code",
   "execution_count": 9,
   "metadata": {},
   "outputs": [
    {
     "data": {
      "text/plain": [
       "(array([752., 203., 169., 118., 107.,  78.,  93.,  78.,  76.,  69.,  70.,\n",
       "         61.,  63.,  71.,  62.,  83.,  76.,  67.,  85., 112., 121., 153.,\n",
       "        136., 141., 140., 158., 205., 125., 110., 107., 147.,  87.,  74.,\n",
       "         84.,  54.,  62.,  67.,  79.,  76.,  69.,  74.,  71.,  80.,  87.,\n",
       "        100., 109., 110., 165., 218., 698.]),\n",
       " array([-1.00000000e+00, -9.60000006e-01, -9.20000012e-01, -8.80000018e-01,\n",
       "        -8.40000024e-01, -8.00000030e-01, -7.60000036e-01, -7.20000042e-01,\n",
       "        -6.80000048e-01, -6.40000054e-01, -6.00000060e-01, -5.60000066e-01,\n",
       "        -5.20000072e-01, -4.80000077e-01, -4.40000083e-01, -4.00000089e-01,\n",
       "        -3.60000095e-01, -3.20000101e-01, -2.80000107e-01, -2.40000113e-01,\n",
       "        -2.00000119e-01, -1.60000125e-01, -1.20000131e-01, -8.00001371e-02,\n",
       "        -4.00001431e-02, -1.49011612e-07,  3.99998450e-02,  7.99998391e-02,\n",
       "         1.19999833e-01,  1.59999827e-01,  1.99999821e-01,  2.39999815e-01,\n",
       "         2.79999809e-01,  3.19999803e-01,  3.59999797e-01,  3.99999791e-01,\n",
       "         4.39999785e-01,  4.79999779e-01,  5.19999774e-01,  5.59999768e-01,\n",
       "         5.99999762e-01,  6.39999756e-01,  6.79999750e-01,  7.19999744e-01,\n",
       "         7.59999738e-01,  7.99999732e-01,  8.39999726e-01,  8.79999720e-01,\n",
       "         9.19999714e-01,  9.59999708e-01,  9.99999702e-01]),\n",
       " <BarContainer object of 50 artists>)"
      ]
     },
     "execution_count": 9,
     "metadata": {},
     "output_type": "execute_result"
    },
    {
     "data": {
      "image/png": "[encoded data removed]",
      "text/plain": [
       "<Figure size 640x480 with 1 Axes>"
      ]
     },
     "metadata": {},
     "output_type": "display_data"
    }
   ],
   "source": [
    "plt.hist(h.view(-1).tolist(),50)"
   ]
  },
  {
   "cell_type": "code",
   "execution_count": 11,
   "metadata": {},
   "outputs": [
    {
     "name": "stdout",
     "output_type": "stream",
     "text": [
      "train: 2.0669\n",
      "dev: 2.1196\n"
     ]
    }
   ],
   "source": [
    "@torch.no_grad() # decorator to disable gradient tracking.\n",
    "def split_loss(split):\n",
    "    x, y = {'train': (Xtr, Ytr), \n",
    "            'dev': (Xdev, Ydev),\n",
    "            'test':(Xte, Yte)}[split]\n",
    "    emb = C[x] # (N, block_size, n_emb)\n",
    "    embcat = emb.view(emb.shape[0],-1) # (N, block_size * n_emb)\n",
    "    hpreact = embcat @ W1 + b1 # (N, n_hidden)\n",
    "    h = torch.tanh(hpreact)\n",
    "    logits = h @ W2 + b2 # (N, vocab_size)\n",
    "    loss = F.cross_entropy(logits, y)\n",
    "    print(f'{split}: {loss.item():.4f}')\n",
    "\n",
    "split_loss('train')\n",
    "split_loss('dev')"
   ]
  },
  {
   "cell_type": "code",
   "execution_count": null,
   "metadata": {},
   "outputs": [],
   "source": [
    "plt.plot(lossi)\n",
    "plt.ylim((0,.6))"
   ]
  },
  {
   "cell_type": "code",
   "execution_count": null,
   "metadata": {},
   "outputs": [],
   "source": [
    "# sample from the model\n",
    "g = torch.Generator().manual_seed(random_seed)\n",
    "\n",
    "for _ in range(5):\n",
    "    out = []\n",
    "    context = [0] * block_size\n",
    "    while True:\n",
    "        emb = C[torch.tensor(context).view((1,-1))] # (N, block_size, n_emb)\n",
    "        embcat = emb.view(emb.shape[0],-1) # (N, block_size * n_emb)\n",
    "        hpreact = embcat @ W1 + b1 # (N, n_hidden)\n",
    "        h = torch.tanh(hpreact)\n",
    "        logits = h @ W2 + b2 # (N, vocab_size)\n",
    "        probs = F.softmax(logits, dim=1)\n",
    "        # counts = logits.exp()\n",
    "        # probs = counts/counts.sum(1, keepdim=True)\n",
    "        ix = torch.multinomial(probs, num_samples=1, replacement=True, generator=g, ).item()\n",
    "        context = context[1:] + [ix]\n",
    "        out.append(ix)\n",
    "        if ix==0:\n",
    "            break\n",
    "    print(f'{\"\".join([itos[i] for i in out])}')"
   ]
  },
  {
   "cell_type": "code",
   "execution_count": null,
   "metadata": {},
   "outputs": [],
   "source": []
  }
 ],
 "metadata": {
  "kernelspec": {
   "display_name": "Python 3 (ipykernel)",
   "language": "python",
   "name": "python3"
  },
  "language_info": {
   "codemirror_mode": {
    "name": "ipython",
    "version": 3
   },
   "file_extension": ".py",
   "mimetype": "text/x-python",
   "name": "python",
   "nbconvert_exporter": "python",
   "pygments_lexer": "ipython3",
   "version": "3.9.16"
  }
 },
 "nbformat": 4,
 "nbformat_minor": 4
}

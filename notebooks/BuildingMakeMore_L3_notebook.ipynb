{
 "cells": [
  {
   "cell_type": "code",
   "execution_count": 145,
   "metadata": {},
   "outputs": [],
   "source": [
    "import torch\n",
    "import torch.nn.functional as F\n",
    "import matplotlib.pyplot as plt\n",
    "import matplotlib.patheffects as PathEffects\n",
    "import tqdm\n",
    "%matplotlib inline"
   ]
  },
  {
   "cell_type": "code",
   "execution_count": 2,
   "metadata": {},
   "outputs": [],
   "source": [
    "random_seed = 2147483647"
   ]
  },
  {
   "cell_type": "code",
   "execution_count": 3,
   "metadata": {},
   "outputs": [],
   "source": [
    "words = open(\"names.txt\", \"r\").read().splitlines()"
   ]
  },
  {
   "cell_type": "code",
   "execution_count": 4,
   "metadata": {},
   "outputs": [
    {
     "data": {
      "text/plain": [
       "['emma', 'olivia', 'ava']"
      ]
     },
     "execution_count": 4,
     "metadata": {},
     "output_type": "execute_result"
    }
   ],
   "source": [
    "words[:3]"
   ]
  },
  {
   "cell_type": "markdown",
   "metadata": {},
   "source": [
    "Create character to index and reverse mapping dictionaries."
   ]
  },
  {
   "cell_type": "code",
   "execution_count": 5,
   "metadata": {},
   "outputs": [],
   "source": [
    "chars = sorted(list(set(''.join(words))))\n",
    "stoi = {s:i+1 for i,s in enumerate(chars)}\n",
    "stoi['.'] = 0\n",
    "itos = {i:s for s,i in stoi.items()}"
   ]
  },
  {
   "cell_type": "markdown",
   "metadata": {
    "editable": true,
    "jp-MarkdownHeadingCollapsed": true,
    "slideshow": {
     "slide_type": ""
    },
    "tags": []
   },
   "source": [
    "### Bigram Model"
   ]
  },
  {
   "cell_type": "markdown",
   "metadata": {
    "editable": true,
    "slideshow": {
     "slide_type": ""
    },
    "tags": []
   },
   "source": [
    "Steps involved - \n",
    "\n",
    "1. Create training data - create `xs` and `ys`.\n",
    "2. One hot encode the `xs`. This gives `n` features for each `x`. We would want the network to make predictions for each one of the possible `y`s. Hence the number of outputs would also be `n`.\n",
    "3. Instantiate weights `w`, of the size `n x n`\n",
    "4. Matrix multiply `xs` and `w` to get `y_pred` predictions.\n",
    "5. `y_pred`  can be considered natural log of counts. We can do an exponent of this and then average to get probabilities which are in the range 0 and 1, and all prediction for a particular `x` add up to `1`. This is called `cross_entropy` loss.\n",
    "6. Set gradient of parameters (`w`) to zero.\n",
    "7. Perform backward pass on the loss function.\n",
    "8. Update `w` based on the gradients and learning rate.\n",
    "9. Recalculate loss until satisfied.\n",
    "10. Decay the learning rate once it stops improving. Dividing by 10 is the usual practice.\n"
   ]
  },
  {
   "cell_type": "markdown",
   "metadata": {},
   "source": [
    "Visualise word counts"
   ]
  },
  {
   "cell_type": "code",
   "execution_count": null,
   "metadata": {},
   "outputs": [],
   "source": [
    "N = torch.zeros((27,27), dtype=torch.int32)"
   ]
  },
  {
   "cell_type": "code",
   "execution_count": null,
   "metadata": {},
   "outputs": [],
   "source": [
    "for w in words:\n",
    "    w = '.' + w + '.'\n",
    "    for ch1, ch2 in zip(w,w[1:]):\n",
    "        ix1 = stoi[ch1]\n",
    "        ix2 = stoi[ch2]\n",
    "        N[ix1,ix2] += 1"
   ]
  },
  {
   "cell_type": "code",
   "execution_count": null,
   "metadata": {},
   "outputs": [],
   "source": [
    "plt.figure(figsize = (13,13))\n",
    "plt.imshow(N, cmap = 'Blues')\n",
    "for i in range(N.shape[0]):\n",
    "    for j in range(N.shape[1]):\n",
    "        counts=plt.text(j, i, N[i, j].item(), ha='center', va='bottom', fontsize = 8 )\n",
    "        counts.set_path_effects([PathEffects.withStroke(linewidth=2, foreground='w')])\n",
    "\n",
    "        \n",
    "        label=plt.text(j, i, f'{itos[i]}{itos[j]}', ha='center', va='top', fontsize = 8)\n",
    "        label.set_path_effects([PathEffects.withStroke(linewidth=2, foreground='w')])\n",
    "\n",
    "plt.axis('off')"
   ]
  },
  {
   "cell_type": "markdown",
   "metadata": {},
   "source": [
    "Prepare Training data"
   ]
  },
  {
   "cell_type": "code",
   "execution_count": null,
   "metadata": {},
   "outputs": [],
   "source": [
    "xs, ys = [], []\n",
    "for w in words:\n",
    "    w = '.' + w + '.'\n",
    "    for ch1, ch2 in zip(w, w[1:]):\n",
    "        ix1, ix2 = stoi[ch1], stoi[ch2]\n",
    "        xs.append(ix1)\n",
    "        ys.append(ix2)\n",
    "xs = torch.tensor(xs)\n",
    "ys = torch.tensor(ys)\n",
    "print(f'{xs=}, \\n{ys=}')\n",
    "possible_inputs = len(stoi)\n",
    "possible_outputs = len(stoi)\n"
   ]
  },
  {
   "cell_type": "markdown",
   "metadata": {},
   "source": [
    "One hot encode `xs`"
   ]
  },
  {
   "cell_type": "code",
   "execution_count": null,
   "metadata": {},
   "outputs": [],
   "source": [
    "xenc = F.one_hot(xs, num_classes = possible_outputs).float()\n",
    "xenc.shape"
   ]
  },
  {
   "cell_type": "markdown",
   "metadata": {
    "editable": true,
    "slideshow": {
     "slide_type": ""
    },
    "tags": []
   },
   "source": [
    "#### Train NN"
   ]
  },
  {
   "cell_type": "code",
   "execution_count": null,
   "metadata": {},
   "outputs": [],
   "source": [
    "# Instantiate weights\n",
    "\n",
    "g = torch.Generator().manual_seed(random_seed)\n",
    "w = torch.randn((possible_inputs, possible_outputs), generator = g, requires_grad = True)"
   ]
  },
  {
   "cell_type": "code",
   "execution_count": null,
   "metadata": {},
   "outputs": [],
   "source": [
    "for _ in range(100):\n",
    "    \n",
    "    # Forward pass\n",
    "    \n",
    "    logits = xenc @ w\n",
    "    counts = logits.exp()\n",
    "    probs = counts/ counts.sum(1, keepdim=True)\n",
    "    loss = -probs[torch.arange(len(ys)), ys].log().mean()\n",
    "    \n",
    "    # BackPropagation\n",
    "    \n",
    "    w.grad = None\n",
    "    loss.backward()\n",
    "    \n",
    "    # Update weights\n",
    "    \n",
    "    w.data += -40 * w.grad\n",
    "\n",
    "print(f'{loss=}')"
   ]
  },
  {
   "cell_type": "markdown",
   "metadata": {},
   "source": [
    "#### Make predictions"
   ]
  },
  {
   "cell_type": "code",
   "execution_count": null,
   "metadata": {
    "editable": true,
    "slideshow": {
     "slide_type": ""
    },
    "tags": []
   },
   "outputs": [],
   "source": [
    "g = torch.Generator().manual_seed(random_seed)\n",
    "P = w.exp()/ w.exp().sum(1, keepdim=True)\n",
    "preds = []\n",
    "for _ in range(5):\n",
    "    ix = 0\n",
    "    out = ''\n",
    "    while True:\n",
    "        ix = torch.multinomial(P[ix], num_samples = 1, generator=g, replacement = True).item()\n",
    "        out += itos[ix]\n",
    "        if ix == 0:\n",
    "            break\n",
    "\n",
    "    preds.append(out)\n",
    "\n",
    "preds\n",
    "    "
   ]
  },
  {
   "cell_type": "markdown",
   "metadata": {
    "editable": true,
    "slideshow": {
     "slide_type": ""
    },
    "tags": []
   },
   "source": [
    "### Trigram Model"
   ]
  },
  {
   "cell_type": "markdown",
   "metadata": {
    "editable": true,
    "slideshow": {
     "slide_type": ""
    },
    "tags": []
   },
   "source": [
    "Create Training Data"
   ]
  },
  {
   "cell_type": "code",
   "execution_count": 6,
   "metadata": {
    "editable": true,
    "slideshow": {
     "slide_type": ""
    },
    "tags": []
   },
   "outputs": [],
   "source": [
    "block_size = 3 # How many characters we take to predict the next character.\n",
    "X, Y = [], []\n",
    "for w in words:\n",
    "    # print(w)\n",
    "    context = [0] * block_size\n",
    "    for char in w + '.':\n",
    "        ix = stoi[char]\n",
    "        X.append(context)\n",
    "        Y.append(ix)\n",
    "        # print(f'{\"\".join([itos[i] for i in context])} ---> {char}')\n",
    "        context = context[1:] + [ix]\n",
    "\n",
    "X = torch.tensor(X)\n",
    "Y = torch.tensor(Y)"
   ]
  },
  {
   "cell_type": "code",
   "execution_count": 7,
   "metadata": {},
   "outputs": [
    {
     "data": {
      "text/plain": [
       "(torch.Size([228146, 3]), torch.int64, torch.Size([228146]), torch.int64)"
      ]
     },
     "execution_count": 7,
     "metadata": {},
     "output_type": "execute_result"
    }
   ],
   "source": [
    "X.shape, X.dtype, Y.shape, Y.dtype"
   ]
  },
  {
   "cell_type": "code",
   "execution_count": 163,
   "metadata": {},
   "outputs": [],
   "source": [
    "block_size = 3\n",
    "def build_dataset(words, block_size = block_size):\n",
    "    # How many characters we take to predict the next character.\n",
    "    X, Y = [], []\n",
    "    for w in words:\n",
    "        # print(w)\n",
    "        context = [0] * block_size\n",
    "        for char in w + '.':\n",
    "            ix = stoi[char]\n",
    "            X.append(context)\n",
    "            Y.append(ix)\n",
    "            # print(f'{\"\".join([itos[i] for i in context])} ---> {char}')\n",
    "            context = context[1:] + [ix]\n",
    "    \n",
    "    X = torch.tensor(X)\n",
    "    Y = torch.tensor(Y)\n",
    "    print(X.shape, Y.shape)\n",
    "    return X, Y"
   ]
  },
  {
   "cell_type": "markdown",
   "metadata": {},
   "source": [
    "Split to train validation and test sets."
   ]
  },
  {
   "cell_type": "code",
   "execution_count": 164,
   "metadata": {},
   "outputs": [
    {
     "name": "stdout",
     "output_type": "stream",
     "text": [
      "torch.Size([182632, 3]) torch.Size([182632])\n",
      "torch.Size([22690, 3]) torch.Size([22690])\n",
      "torch.Size([22824, 3]) torch.Size([22824])\n"
     ]
    }
   ],
   "source": [
    "import random\n",
    "\n",
    "random.seed(random_seed)\n",
    "random.shuffle(words)\n",
    "n1 = int(0.8*(len(words)))\n",
    "n2 = int(0.9*(len(words)))\n",
    "\n",
    "Xtrn, Ytrn = build_dataset(words[:n1])\n",
    "Xdev, Ydev = build_dataset(words[n1:n2])\n",
    "Xte, Yte = build_dataset(words[n2:])"
   ]
  },
  {
   "cell_type": "markdown",
   "metadata": {
    "jp-MarkdownHeadingCollapsed": true
   },
   "source": [
    "#### Forward Pass"
   ]
  },
  {
   "cell_type": "code",
   "execution_count": 155,
   "metadata": {},
   "outputs": [],
   "source": [
    "num_emb = 2\n",
    "num_out1 = 6\n",
    "g = torch.Generator().manual_seed(random_seed)\n",
    "C = torch.randn((27,num_emb), generator = g) # possible outputs, number of embeddings."
   ]
  },
  {
   "cell_type": "markdown",
   "metadata": {
    "jp-MarkdownHeadingCollapsed": true
   },
   "source": [
    "##### Pytorch indexing 101"
   ]
  },
  {
   "cell_type": "markdown",
   "metadata": {},
   "source": [
    "Indexing C is same as multiplying one hot with C.\n",
    "\n",
    "1. The first step of our model can thus be considered equivalent to a layer without any non-linearity.\n",
    "2. C being the weights and one hot encoded character being the input.\n",
    "3. The number of neurons would be same as the number of outputs, i.e. 2 if C has 2 columns.\n"
   ]
  },
  {
   "cell_type": "code",
   "execution_count": 93,
   "metadata": {},
   "outputs": [
    {
     "data": {
      "text/plain": [
       "tensor([-0.4713,  0.7868])"
      ]
     },
     "execution_count": 93,
     "metadata": {},
     "output_type": "execute_result"
    }
   ],
   "source": [
    "C[5]"
   ]
  },
  {
   "cell_type": "code",
   "execution_count": 94,
   "metadata": {},
   "outputs": [
    {
     "data": {
      "text/plain": [
       "tensor([-0.4713,  0.7868])"
      ]
     },
     "execution_count": 94,
     "metadata": {},
     "output_type": "execute_result"
    }
   ],
   "source": [
    "F.one_hot(torch.tensor(5), num_classes=27).float() @ C"
   ]
  },
  {
   "cell_type": "code",
   "execution_count": 95,
   "metadata": {},
   "outputs": [
    {
     "data": {
      "text/plain": [
       "torch.Size([228146, 3])"
      ]
     },
     "execution_count": 95,
     "metadata": {},
     "output_type": "execute_result"
    }
   ],
   "source": [
    "X.shape"
   ]
  },
  {
   "cell_type": "code",
   "execution_count": 96,
   "metadata": {},
   "outputs": [
    {
     "data": {
      "text/plain": [
       "torch.Size([228146, 3, 2])"
      ]
     },
     "execution_count": 96,
     "metadata": {},
     "output_type": "execute_result"
    }
   ],
   "source": [
    "C[X].shape"
   ]
  },
  {
   "cell_type": "code",
   "execution_count": 97,
   "metadata": {},
   "outputs": [
    {
     "data": {
      "text/plain": [
       "tensor(1)"
      ]
     },
     "execution_count": 97,
     "metadata": {},
     "output_type": "execute_result"
    }
   ],
   "source": [
    "X[13,2]"
   ]
  },
  {
   "cell_type": "code",
   "execution_count": 98,
   "metadata": {},
   "outputs": [
    {
     "data": {
      "text/plain": [
       "tensor([-0.0274, -1.1008])"
      ]
     },
     "execution_count": 98,
     "metadata": {},
     "output_type": "execute_result"
    }
   ],
   "source": [
    "C[X][13,2]"
   ]
  },
  {
   "cell_type": "code",
   "execution_count": null,
   "metadata": {},
   "outputs": [],
   "source": [
    "C[1]"
   ]
  },
  {
   "cell_type": "markdown",
   "metadata": {
    "jp-MarkdownHeadingCollapsed": true
   },
   "source": [
    "##### create embedding matrix"
   ]
  },
  {
   "cell_type": "code",
   "execution_count": null,
   "metadata": {},
   "outputs": [],
   "source": [
    "emb = C[X]\n",
    "emb.shape"
   ]
  },
  {
   "cell_type": "markdown",
   "metadata": {},
   "source": [
    "Initialise weights for the non-linear layer"
   ]
  },
  {
   "cell_type": "code",
   "execution_count": null,
   "metadata": {},
   "outputs": [],
   "source": [
    "w1 = torch.randn((block_size * num_emb, num_out1), generator = g)\n",
    "b1 = torch.randn((num_out), generator = g)"
   ]
  },
  {
   "cell_type": "code",
   "execution_count": null,
   "metadata": {},
   "outputs": [],
   "source": [
    "h = torch.tanh(emb.view(-1, block_size * num_emb) @ w1 + b1)"
   ]
  },
  {
   "cell_type": "code",
   "execution_count": null,
   "metadata": {},
   "outputs": [],
   "source": [
    "h.shape"
   ]
  },
  {
   "cell_type": "code",
   "execution_count": null,
   "metadata": {},
   "outputs": [],
   "source": [
    "w2 = torch.randn((num_out1, 27), generator = g)\n",
    "b2 = torch.randn((27), generator = g)"
   ]
  },
  {
   "cell_type": "code",
   "execution_count": null,
   "metadata": {},
   "outputs": [],
   "source": [
    "logits = h @ w2 + b2"
   ]
  },
  {
   "cell_type": "code",
   "execution_count": null,
   "metadata": {},
   "outputs": [],
   "source": [
    "logits.shape"
   ]
  },
  {
   "cell_type": "markdown",
   "metadata": {
    "jp-MarkdownHeadingCollapsed": true
   },
   "source": [
    "#### Calculate Loss "
   ]
  },
  {
   "cell_type": "code",
   "execution_count": null,
   "metadata": {},
   "outputs": [],
   "source": [
    "counts = logits.exp()\n",
    "probs = counts/counts.sum(1, keepdim=True)"
   ]
  },
  {
   "cell_type": "code",
   "execution_count": null,
   "metadata": {},
   "outputs": [],
   "source": [
    "loss = -probs[torch.arange(probs.shape[0]), Y].log().mean()"
   ]
  },
  {
   "cell_type": "code",
   "execution_count": null,
   "metadata": {},
   "outputs": [],
   "source": [
    "loss"
   ]
  },
  {
   "cell_type": "markdown",
   "metadata": {},
   "source": [
    "#### Combined model"
   ]
  },
  {
   "cell_type": "code",
   "execution_count": null,
   "metadata": {},
   "outputs": [],
   "source": [
    "# ------------ rewriting everything ------------"
   ]
  },
  {
   "cell_type": "code",
   "execution_count": 165,
   "metadata": {},
   "outputs": [
    {
     "data": {
      "text/plain": [
       "(torch.Size([182632, 3]), torch.Size([182632]))"
      ]
     },
     "execution_count": 165,
     "metadata": {},
     "output_type": "execute_result"
    }
   ],
   "source": [
    "Xtrn.shape, Ytrn.shape"
   ]
  },
  {
   "cell_type": "markdown",
   "metadata": {},
   "source": [
    "first Layer"
   ]
  },
  {
   "cell_type": "code",
   "execution_count": 219,
   "metadata": {},
   "outputs": [],
   "source": [
    "num_emb = 10\n",
    "num_out1 = 200\n",
    "minibatch_size = 32\n",
    "\n",
    "lr = 10**-0.5"
   ]
  },
  {
   "cell_type": "code",
   "execution_count": 220,
   "metadata": {},
   "outputs": [],
   "source": [
    "g = torch.Generator().manual_seed(random_seed)\n",
    "C = torch.randn((27,num_emb), generator = g) # possible outputs, number of embeddings.\n",
    "w1 = torch.randn((block_size * num_emb, num_out1), generator = g)\n",
    "b1 = torch.randn((num_out1), generator = g)\n",
    "w2 = torch.randn((num_out1, 27), generator = g)\n",
    "b2 = torch.randn((27), generator = g)\n",
    "parameters = [C, w1, b1, w2, b2]"
   ]
  },
  {
   "cell_type": "code",
   "execution_count": 221,
   "metadata": {},
   "outputs": [
    {
     "data": {
      "text/plain": [
       "11897"
      ]
     },
     "execution_count": 221,
     "metadata": {},
     "output_type": "execute_result"
    }
   ],
   "source": [
    "sum(p.nelement() for p in parameters)"
   ]
  },
  {
   "cell_type": "code",
   "execution_count": 222,
   "metadata": {},
   "outputs": [],
   "source": [
    "for p in parameters:\n",
    "    p.requires_grad=True"
   ]
  },
  {
   "cell_type": "markdown",
   "metadata": {
    "jp-MarkdownHeadingCollapsed": true
   },
   "source": [
    "##### LR identification"
   ]
  },
  {
   "cell_type": "code",
   "execution_count": 170,
   "metadata": {},
   "outputs": [
    {
     "name": "stdout",
     "output_type": "stream",
     "text": [
      "loss=tensor(96.9301, grad_fn=<NllLossBackward0>)\n"
     ]
    }
   ],
   "source": [
    "niter = 1000\n",
    "lre = torch.linspace(-3,1,niter)\n",
    "lrs = 10**lre\n",
    "lri = []\n",
    "lossi = []\n",
    "\n",
    "for i in range(niter):\n",
    "\n",
    "    # minibatch construct\n",
    "    ix = torch.randint(0,Xtrn.shape[0], size = (minibatch_size, ), generator = g)\n",
    "    \n",
    "    #forward pass \n",
    "    emb = C[Xtrn[ix]]\n",
    "    h = torch.tanh(emb.view(-1, block_size * num_emb) @ w1 + b1)\n",
    "    logits = h @ w2 + b2\n",
    "    \n",
    "    loss = F.cross_entropy(logits, Ytrn[ix])\n",
    "    \n",
    "    # backpropagation - backward pass\n",
    "    \n",
    "    for p in parameters:\n",
    "        p.grad = None \n",
    "    loss.backward()\n",
    "    lr = lrs[i]\n",
    "    for p in parameters:\n",
    "        p.data += -lr * p.grad\n",
    "    lri.append(lre[i])\n",
    "    lossi.append(loss.data)\n",
    "    \n",
    "print(f'{loss=}')"
   ]
  },
  {
   "cell_type": "code",
   "execution_count": 171,
   "metadata": {},
   "outputs": [
    {
     "data": {
      "text/plain": [
       "[<matplotlib.lines.Line2D at 0x16450acd0>]"
      ]
     },
     "execution_count": 171,
     "metadata": {},
     "output_type": "execute_result"
    },
    {
     "data": {
      "image/png": "[encoded data removed]",
      "text/plain": [
       "<Figure size 640x480 with 1 Axes>"
      ]
     },
     "metadata": {},
     "output_type": "display_data"
    }
   ],
   "source": [
    "plt.plot(lri, torch.log(torch.tensor(lossi)))"
   ]
  },
  {
   "cell_type": "markdown",
   "metadata": {},
   "source": [
    "##### NN iterations"
   ]
  },
  {
   "cell_type": "code",
   "execution_count": 223,
   "metadata": {},
   "outputs": [
    {
     "name": "stderr",
     "output_type": "stream",
     "text": [
      " 35%|██████████████████████▏                                        | 70401/199999 [00:20<00:40, 3189.63it/s]"
     ]
    },
    {
     "name": "stdout",
     "output_type": "stream",
     "text": [
      "decaying lr to lr=0.03162277660168379\n"
     ]
    },
    {
     "name": "stderr",
     "output_type": "stream",
     "text": [
      " 70%|███████████████████████████████████████████▌                  | 140662/199999 [00:41<00:17, 3398.63it/s]"
     ]
    },
    {
     "name": "stdout",
     "output_type": "stream",
     "text": [
      "decaying lr to lr=0.003162277660168379\n"
     ]
    },
    {
     "name": "stderr",
     "output_type": "stream",
     "text": [
      "100%|██████████████████████████████████████████████████████████████| 199999/199999 [00:59<00:00, 3359.10it/s]"
     ]
    },
    {
     "name": "stdout",
     "output_type": "stream",
     "text": [
      "loss=tensor(2.0676, grad_fn=<NllLossBackward0>)\n"
     ]
    },
    {
     "name": "stderr",
     "output_type": "stream",
     "text": [
      "\n"
     ]
    }
   ],
   "source": [
    "niter = 200000\n",
    "for i in tqdm.tqdm(range(1,niter)): # starting from 1, to prevent learning rate decay at i == 0.\n",
    "\n",
    "    # minibatch construct\n",
    "    ix = torch.randint(0,Xtrn.shape[0], size = (minibatch_size, ), generator = g)\n",
    "    \n",
    "    #forward pass \n",
    "    emb = C[Xtrn[ix]]\n",
    "    h = torch.tanh(emb.view(-1, block_size * num_emb) @ w1 + b1)\n",
    "    logits = h @ w2 + b2\n",
    "    \n",
    "    loss = F.cross_entropy(logits, Ytrn[ix])\n",
    "    \n",
    "    # backpropagation - backward pass\n",
    "    if i % 70000 == 0: # learning rate decay after every 70k iterations.\n",
    "        lr /=10.0\n",
    "        print(f'decaying lr to {lr=}')\n",
    "    for p in parameters:\n",
    "        p.grad = None \n",
    "    loss.backward()\n",
    "    for p in parameters:\n",
    "        p.data += -lr * p.grad\n",
    "    \n",
    "print(f'{loss=}')"
   ]
  },
  {
   "cell_type": "code",
   "execution_count": 224,
   "metadata": {},
   "outputs": [
    {
     "data": {
      "text/plain": [
       "tensor(2.0803, grad_fn=<NllLossBackward0>)"
      ]
     },
     "execution_count": 224,
     "metadata": {},
     "output_type": "execute_result"
    }
   ],
   "source": [
    "emb = C[Xtrn]\n",
    "h = torch.tanh(emb.view(-1, block_size * num_emb) @ w1 + b1)\n",
    "logits = h @ w2 + b2\n",
    "loss = F.cross_entropy(logits, Ytrn)\n",
    "loss"
   ]
  },
  {
   "cell_type": "code",
   "execution_count": 225,
   "metadata": {},
   "outputs": [
    {
     "data": {
      "text/plain": [
       "tensor(2.1415, grad_fn=<NllLossBackward0>)"
      ]
     },
     "execution_count": 225,
     "metadata": {},
     "output_type": "execute_result"
    }
   ],
   "source": [
    "emb = C[Xdev]\n",
    "h = torch.tanh(emb.view(-1, block_size * num_emb) @ w1 + b1)\n",
    "logits = h @ w2 + b2\n",
    "loss = F.cross_entropy(logits, Ydev)\n",
    "loss"
   ]
  },
  {
   "cell_type": "markdown",
   "metadata": {},
   "source": [
    "<mark>Beating Andrej Karpathy's notebook by training more rounds and further decaying the learning rate.</mark>"
   ]
  },
  {
   "cell_type": "markdown",
   "metadata": {},
   "source": [
    "We are likely overfitting here, since the training and validation performance is afar. Will need to track perforamnce on dev to see if the loss starts increasing on the dev set to be sure. \n",
    "\n",
    "As we know from Jeremy Howard's lectures, Overfitting is when the validation data's performance starts deteriorating and not when the train and validation perforamnce difference starts increasing. Our sole objective is to have a high performance on the validation dataset and we should only be concerned about the score there. The training  dataset score could be avoided completely."
   ]
  },
  {
   "cell_type": "code",
   "execution_count": 227,
   "metadata": {},
   "outputs": [
    {
     "data": {
      "text/plain": [
       "tensor(2.1562, grad_fn=<NllLossBackward0>)"
      ]
     },
     "execution_count": 227,
     "metadata": {},
     "output_type": "execute_result"
    }
   ],
   "source": [
    "emb = C[Xte]\n",
    "h = torch.tanh(emb.view(-1, block_size * num_emb) @ w1 + b1)\n",
    "logits = h @ w2 + b2\n",
    "loss = F.cross_entropy(logits, Yte)\n",
    "loss"
   ]
  },
  {
   "cell_type": "markdown",
   "metadata": {
    "jp-MarkdownHeadingCollapsed": true
   },
   "source": [
    "## Generating new names with the model"
   ]
  },
  {
   "cell_type": "code",
   "execution_count": 232,
   "metadata": {},
   "outputs": [
    {
     "name": "stdout",
     "output_type": "stream",
     "text": [
      "caine.\n",
      "adeladeli.\n",
      "aarous.\n",
      "malon.\n",
      "lavlokiel.\n",
      "erick.\n",
      "maza.\n",
      "amayonni.\n",
      "mondi.\n",
      "alomina.\n",
      "keen.\n",
      "djyanny.\n",
      "aria.\n",
      "edrewkendin.\n",
      "daon.\n",
      "iya.\n",
      "dyeti.\n",
      "kazlei.\n",
      "usncenzy.\n",
      "jadenklynn.\n"
     ]
    }
   ],
   "source": [
    "n = 20\n",
    "# g = torch.Generator().manual_seed(random_seed)\n",
    "for _ in range(n):\n",
    "    out = []\n",
    "    context = [0]*block_size\n",
    "    while True:\n",
    "        emb = C[context]\n",
    "        h = torch.tanh(emb.view(-1,30) @ w1 + b1)\n",
    "        logits = h @ w2 + b2\n",
    "        probs = F.softmax(logits, dim = 1)\n",
    "        ix = torch.multinomial(probs, num_samples = 1, generator = g, replacement = True).item()\n",
    "        context = context[1:] + [ix]\n",
    "        out.append(itos[ix])\n",
    "        if ix == 0 :\n",
    "            break\n",
    "    print(''.join(out))"
   ]
  },
  {
   "cell_type": "markdown",
   "metadata": {},
   "source": [
    "## Further improving the model performance. "
   ]
  },
  {
   "cell_type": "markdown",
   "metadata": {},
   "source": [
    "### M1 - Add more layers to the nn."
   ]
  },
  {
   "cell_type": "code",
   "execution_count": 302,
   "metadata": {},
   "outputs": [],
   "source": [
    "block_size = 3\n",
    "nex = 10\n",
    "num_out = 100\n",
    "ney = 10\n",
    "\n",
    "minibatch_size = 32\n",
    "\n",
    "lr = 10**-0.25"
   ]
  },
  {
   "cell_type": "code",
   "execution_count": 303,
   "metadata": {},
   "outputs": [],
   "source": [
    "g = torch.Generator().manual_seed(random_seed)\n",
    "Cx = torch.randn((27,nex), generator = g) # possible outputs, number of embeddings.\n",
    "w1 = torch.randn((block_size * nex, num_out), generator = g)\n",
    "b1 = torch.randn((num_out), generator = g)\n",
    "w2 = torch.randn((num_out, ney), generator = g)\n",
    "b2 = torch.randn((ney), generator = g)\n",
    "Cy = torch.randn((ney, 27), generator = g)\n",
    "parameters = [Cx, w1, b1, w2, b2, Cy]"
   ]
  },
  {
   "cell_type": "code",
   "execution_count": 304,
   "metadata": {},
   "outputs": [
    {
     "data": {
      "text/plain": [
       "4650"
      ]
     },
     "execution_count": 304,
     "metadata": {},
     "output_type": "execute_result"
    }
   ],
   "source": [
    "sum(p.nelement() for p in parameters)"
   ]
  },
  {
   "cell_type": "code",
   "execution_count": 296,
   "metadata": {},
   "outputs": [],
   "source": [
    "for p in parameters:\n",
    "    p.requires_grad=True"
   ]
  },
  {
   "cell_type": "markdown",
   "metadata": {
    "jp-MarkdownHeadingCollapsed": true
   },
   "source": [
    "##### LR idnetification"
   ]
  },
  {
   "cell_type": "code",
   "execution_count": 277,
   "metadata": {},
   "outputs": [
    {
     "name": "stdout",
     "output_type": "stream",
     "text": [
      "loss=tensor(40.8438, grad_fn=<NllLossBackward0>)\n"
     ]
    }
   ],
   "source": [
    "niter = 1000\n",
    "lre = torch.linspace(-3,1,niter)\n",
    "lrs = 10**lre\n",
    "lri = []\n",
    "lossi = []\n",
    "\n",
    "for i in range(niter):\n",
    "\n",
    "    # minibatch construct\n",
    "    ix = torch.randint(0,Xtrn.shape[0], size = (minibatch_size, ), generator = g)\n",
    "    \n",
    "    #forward pass \n",
    "    emb = C[Xtrn[ix]]\n",
    "    h = torch.tanh(emb.view(-1, block_size * num_emb) @ w1 + b1)\n",
    "    h2 = torch.tanh(h @ w2 + b2)\n",
    "    logits = h2 @ w3 + b3\n",
    "    \n",
    "    loss = F.cross_entropy(logits, Ytrn[ix])\n",
    "    \n",
    "    # backpropagation - backward pass\n",
    "    \n",
    "    for p in parameters:\n",
    "        p.grad = None \n",
    "    loss.backward()\n",
    "    lr = lrs[i]\n",
    "    for p in parameters:\n",
    "        p.data += -lr * p.grad\n",
    "    lri.append(lre[i])\n",
    "    lossi.append(loss.data)\n",
    "    \n",
    "print(f'{loss=}')"
   ]
  },
  {
   "cell_type": "code",
   "execution_count": 278,
   "metadata": {},
   "outputs": [
    {
     "data": {
      "text/plain": [
       "[<matplotlib.lines.Line2D at 0x2f88fb1c0>]"
      ]
     },
     "execution_count": 278,
     "metadata": {},
     "output_type": "execute_result"
    },
    {
     "data": {
      "image/png": "[encoded data removed]",
      "text/plain": [
       "<Figure size 640x480 with 1 Axes>"
      ]
     },
     "metadata": {},
     "output_type": "display_data"
    }
   ],
   "source": [
    "plt.plot(lri, torch.log(torch.tensor(lossi)))"
   ]
  },
  {
   "cell_type": "markdown",
   "metadata": {
    "jp-MarkdownHeadingCollapsed": true
   },
   "source": [
    "##### NN iterations"
   ]
  },
  {
   "cell_type": "code",
   "execution_count": 297,
   "metadata": {},
   "outputs": [
    {
     "name": "stderr",
     "output_type": "stream",
     "text": [
      " 25%|███████████████▉                                               | 50612/199999 [00:14<00:36, 4063.81it/s]"
     ]
    },
    {
     "name": "stdout",
     "output_type": "stream",
     "text": [
      "decaying lr to lr=0.056234132519034905\n"
     ]
    },
    {
     "name": "stderr",
     "output_type": "stream",
     "text": [
      " 50%|███████████████████████████████▏                              | 100445/199999 [00:26<00:24, 4118.34it/s]"
     ]
    },
    {
     "name": "stdout",
     "output_type": "stream",
     "text": [
      "decaying lr to lr=0.00562341325190349\n"
     ]
    },
    {
     "name": "stderr",
     "output_type": "stream",
     "text": [
      " 75%|██████████████████████████████████████████████▋               | 150672/199999 [00:39<00:12, 4067.18it/s]"
     ]
    },
    {
     "name": "stdout",
     "output_type": "stream",
     "text": [
      "decaying lr to lr=0.000562341325190349\n"
     ]
    },
    {
     "name": "stderr",
     "output_type": "stream",
     "text": [
      "100%|██████████████████████████████████████████████████████████████| 199999/199999 [00:51<00:00, 3882.15it/s]"
     ]
    },
    {
     "name": "stdout",
     "output_type": "stream",
     "text": [
      "loss=tensor(2.1503, grad_fn=<NllLossBackward0>)\n"
     ]
    },
    {
     "name": "stderr",
     "output_type": "stream",
     "text": [
      "\n"
     ]
    }
   ],
   "source": [
    "niter = 200000\n",
    "lossi = []\n",
    "for i in tqdm.tqdm(range(1,niter)): # starting from 1, to prevent learning rate decay at i == 0.\n",
    "\n",
    "    # minibatch construct\n",
    "    ix = torch.randint(0,Xtrn.shape[0], size = (minibatch_size, ), generator = g)\n",
    "    \n",
    "    #forward pass \n",
    "    emb = C[Xtrn[ix]]\n",
    "    h = torch.tanh(emb.view(-1, block_size * num_emb) @ w1 + b1)\n",
    "    h2 = torch.tanh(h @ w2 + b2)\n",
    "    logits = h2 @ w3 + b3\n",
    "    \n",
    "    loss = F.cross_entropy(logits, Ytrn[ix])\n",
    "    \n",
    "    # backpropagation - backward pass\n",
    "    if i % 50000 == 0: # learning rate decay after every 70k iterations.\n",
    "        lr /=10.0\n",
    "        print(f'decaying lr to {lr=}')\n",
    "    for p in parameters:\n",
    "        p.grad = None \n",
    "    loss.backward()\n",
    "    for p in parameters:\n",
    "        p.data += -lr * p.grad\n",
    "    lossi.append(loss.data)\n",
    "    \n",
    "print(f'{loss=}')"
   ]
  },
  {
   "cell_type": "code",
   "execution_count": 298,
   "metadata": {},
   "outputs": [
    {
     "data": {
      "text/plain": [
       "tensor(2.1604, grad_fn=<NllLossBackward0>)"
      ]
     },
     "execution_count": 298,
     "metadata": {},
     "output_type": "execute_result"
    }
   ],
   "source": [
    "emb = C[Xtrn]\n",
    "h = torch.tanh(emb.view(-1, block_size * num_emb) @ w1 + b1)\n",
    "h2 = torch.tanh(h @ w2 + b2)\n",
    "logits = h2@w3 + b3\n",
    "loss = F.cross_entropy(logits, Ytrn)\n",
    "loss"
   ]
  },
  {
   "cell_type": "code",
   "execution_count": 299,
   "metadata": {},
   "outputs": [
    {
     "data": {
      "text/plain": [
       "tensor(2.1911, grad_fn=<NllLossBackward0>)"
      ]
     },
     "execution_count": 299,
     "metadata": {},
     "output_type": "execute_result"
    }
   ],
   "source": [
    "emb = C[Xdev]\n",
    "h = torch.tanh(emb.view(-1, block_size * num_emb) @ w1 + b1)\n",
    "h2 = torch.tanh(h @ w2 + b2)\n",
    "logits = h2@w3 + b3\n",
    "loss = F.cross_entropy(logits, Ydev)\n",
    "loss"
   ]
  },
  {
   "cell_type": "markdown",
   "metadata": {},
   "source": []
  },
  {
   "cell_type": "markdown",
   "metadata": {},
   "source": [
    "### M2 - Energy function as described in the paper."
   ]
  },
  {
   "cell_type": "markdown",
   "metadata": {},
   "source": [
    "Andrej suggested trying improvements suggested in the paper to further improve the performance. One such suggestion was to have embeddings for the outputs as well, similar to what we had to for the inputs.\n",
    "\n",
    "Lets try to implement this."
   ]
  },
  {
   "cell_type": "code",
   "execution_count": 305,
   "metadata": {},
   "outputs": [],
   "source": [
    "block_size = 3\n",
    "nex = 10\n",
    "num_out = 100\n",
    "ney = 10\n",
    "\n",
    "minibatch_size = 32\n",
    "\n",
    "lr = 10**-0.25"
   ]
  },
  {
   "cell_type": "code",
   "execution_count": 308,
   "metadata": {},
   "outputs": [],
   "source": [
    "g = torch.Generator().manual_seed(random_seed)\n",
    "Cx = torch.randn((27,nex), generator = g) # possible outputs, number of embeddings.\n",
    "w1 = torch.randn((block_size * nex, num_out), generator = g)\n",
    "b1 = torch.randn((num_out), generator = g)\n",
    "w2 = torch.randn((num_out, ney), generator = g)\n",
    "b2 = torch.randn((ney), generator = g)\n",
    "Cy = torch.transpose(Cx, 0, 1)\n",
    "parameters = [Cx, w1, b1, w2, b2, Cy]"
   ]
  },
  {
   "cell_type": "code",
   "execution_count": null,
   "metadata": {},
   "outputs": [],
   "source": []
  },
  {
   "cell_type": "code",
   "execution_count": 304,
   "metadata": {},
   "outputs": [
    {
     "data": {
      "text/plain": [
       "4650"
      ]
     },
     "execution_count": 304,
     "metadata": {},
     "output_type": "execute_result"
    }
   ],
   "source": [
    "sum(p.nelement() for p in parameters)"
   ]
  },
  {
   "cell_type": "code",
   "execution_count": 296,
   "metadata": {},
   "outputs": [],
   "source": [
    "for p in parameters:\n",
    "    p.requires_grad=True"
   ]
  },
  {
   "cell_type": "markdown",
   "metadata": {
    "jp-MarkdownHeadingCollapsed": true
   },
   "source": [
    "##### LR idnetification"
   ]
  },
  {
   "cell_type": "code",
   "execution_count": 277,
   "metadata": {},
   "outputs": [
    {
     "name": "stdout",
     "output_type": "stream",
     "text": [
      "loss=tensor(40.8438, grad_fn=<NllLossBackward0>)\n"
     ]
    }
   ],
   "source": [
    "niter = 1000\n",
    "lre = torch.linspace(-3,1,niter)\n",
    "lrs = 10**lre\n",
    "lri = []\n",
    "lossi = []\n",
    "\n",
    "for i in range(niter):\n",
    "\n",
    "    # minibatch construct\n",
    "    ix = torch.randint(0,Xtrn.shape[0], size = (minibatch_size, ), generator = g)\n",
    "    \n",
    "    #forward pass \n",
    "    emb = C[Xtrn[ix]]\n",
    "    h = torch.tanh(emb.view(-1, block_size * num_emb) @ w1 + b1)\n",
    "    h2 = torch.tanh(h @ w2 + b2)\n",
    "    logits = h2 @ w3 + b3\n",
    "    \n",
    "    loss = F.cross_entropy(logits, Ytrn[ix])\n",
    "    \n",
    "    # backpropagation - backward pass\n",
    "    \n",
    "    for p in parameters:\n",
    "        p.grad = None \n",
    "    loss.backward()\n",
    "    lr = lrs[i]\n",
    "    for p in parameters:\n",
    "        p.data += -lr * p.grad\n",
    "    lri.append(lre[i])\n",
    "    lossi.append(loss.data)\n",
    "    \n",
    "print(f'{loss=}')"
   ]
  },
  {
   "cell_type": "code",
   "execution_count": 278,
   "metadata": {},
   "outputs": [
    {
     "data": {
      "text/plain": [
       "[<matplotlib.lines.Line2D at 0x2f88fb1c0>]"
      ]
     },
     "execution_count": 278,
     "metadata": {},
     "output_type": "execute_result"
    },
    {
     "data": {
      "image/png": "[encoded data removed]",
      "text/plain": [
       "<Figure size 640x480 with 1 Axes>"
      ]
     },
     "metadata": {},
     "output_type": "display_data"
    }
   ],
   "source": [
    "plt.plot(lri, torch.log(torch.tensor(lossi)))"
   ]
  },
  {
   "cell_type": "markdown",
   "metadata": {},
   "source": [
    "##### NN iterations"
   ]
  },
  {
   "cell_type": "code",
   "execution_count": 297,
   "metadata": {},
   "outputs": [
    {
     "name": "stderr",
     "output_type": "stream",
     "text": [
      " 25%|███████████████▉                                               | 50612/199999 [00:14<00:36, 4063.81it/s]"
     ]
    },
    {
     "name": "stdout",
     "output_type": "stream",
     "text": [
      "decaying lr to lr=0.056234132519034905\n"
     ]
    },
    {
     "name": "stderr",
     "output_type": "stream",
     "text": [
      " 50%|███████████████████████████████▏                              | 100445/199999 [00:26<00:24, 4118.34it/s]"
     ]
    },
    {
     "name": "stdout",
     "output_type": "stream",
     "text": [
      "decaying lr to lr=0.00562341325190349\n"
     ]
    },
    {
     "name": "stderr",
     "output_type": "stream",
     "text": [
      " 75%|██████████████████████████████████████████████▋               | 150672/199999 [00:39<00:12, 4067.18it/s]"
     ]
    },
    {
     "name": "stdout",
     "output_type": "stream",
     "text": [
      "decaying lr to lr=0.000562341325190349\n"
     ]
    },
    {
     "name": "stderr",
     "output_type": "stream",
     "text": [
      "100%|██████████████████████████████████████████████████████████████| 199999/199999 [00:51<00:00, 3882.15it/s]"
     ]
    },
    {
     "name": "stdout",
     "output_type": "stream",
     "text": [
      "loss=tensor(2.1503, grad_fn=<NllLossBackward0>)\n"
     ]
    },
    {
     "name": "stderr",
     "output_type": "stream",
     "text": [
      "\n"
     ]
    }
   ],
   "source": [
    "niter = 200000\n",
    "lossi = []\n",
    "for i in tqdm.tqdm(range(1,niter)): # starting from 1, to prevent learning rate decay at i == 0.\n",
    "\n",
    "    # minibatch construct\n",
    "    ix = torch.randint(0,Xtrn.shape[0], size = (minibatch_size, ), generator = g)\n",
    "    \n",
    "    #forward pass \n",
    "    emb = C[Xtrn[ix]]\n",
    "    h = torch.tanh(emb.view(-1, block_size * num_emb) @ w1 + b1)\n",
    "    h2 = torch.tanh(h @ w2 + b2)\n",
    "    logits = h2 @ w3 + b3\n",
    "    \n",
    "    loss = F.cross_entropy(logits, Ytrn[ix])\n",
    "    \n",
    "    # backpropagation - backward pass\n",
    "    if i % 50000 == 0: # learning rate decay after every 70k iterations.\n",
    "        lr /=10.0\n",
    "        print(f'decaying lr to {lr=}')\n",
    "    for p in parameters:\n",
    "        p.grad = None \n",
    "    loss.backward()\n",
    "    for p in parameters:\n",
    "        p.data += -lr * p.grad\n",
    "    lossi.append(loss.data)\n",
    "    \n",
    "print(f'{loss=}')"
   ]
  },
  {
   "cell_type": "code",
   "execution_count": 298,
   "metadata": {},
   "outputs": [
    {
     "data": {
      "text/plain": [
       "tensor(2.1604, grad_fn=<NllLossBackward0>)"
      ]
     },
     "execution_count": 298,
     "metadata": {},
     "output_type": "execute_result"
    }
   ],
   "source": [
    "emb = C[Xtrn]\n",
    "h = torch.tanh(emb.view(-1, block_size * num_emb) @ w1 + b1)\n",
    "h2 = torch.tanh(h @ w2 + b2)\n",
    "logits = h2@w3 + b3\n",
    "loss = F.cross_entropy(logits, Ytrn)\n",
    "loss"
   ]
  },
  {
   "cell_type": "code",
   "execution_count": 299,
   "metadata": {},
   "outputs": [
    {
     "data": {
      "text/plain": [
       "tensor(2.1911, grad_fn=<NllLossBackward0>)"
      ]
     },
     "execution_count": 299,
     "metadata": {},
     "output_type": "execute_result"
    }
   ],
   "source": [
    "emb = C[Xdev]\n",
    "h = torch.tanh(emb.view(-1, block_size * num_emb) @ w1 + b1)\n",
    "h2 = torch.tanh(h @ w2 + b2)\n",
    "logits = h2@w3 + b3\n",
    "loss = F.cross_entropy(logits, Ydev)\n",
    "loss"
   ]
  },
  {
   "cell_type": "code",
   "execution_count": 315,
   "metadata": {},
   "outputs": [
    {
     "data": {
      "text/plain": [
       "[<matplotlib.lines.Line2D at 0x2defb41c0>]"
      ]
     },
     "execution_count": 315,
     "metadata": {},
     "output_type": "execute_result"
    },
    {
     "data": {
      "image/png": "[encoded data removed]",
      "text/plain": [
       "<Figure size 640x480 with 1 Axes>"
      ]
     },
     "metadata": {},
     "output_type": "display_data"
    }
   ],
   "source": [
    "plt.plot(torch.arange(len(lossi)), torch.log(torch.tensor(lossi)))"
   ]
  },
  {
   "cell_type": "code",
   "execution_count": null,
   "metadata": {},
   "outputs": [],
   "source": [
    "k"
   ]
  }
 ],
 "metadata": {
  "kernelspec": {
   "display_name": "Python 3 (ipykernel)",
   "language": "python",
   "name": "python3"
  },
  "language_info": {
   "codemirror_mode": {
    "name": "ipython",
    "version": 3
   },
   "file_extension": ".py",
   "mimetype": "text/x-python",
   "name": "python",
   "nbconvert_exporter": "python",
   "pygments_lexer": "ipython3",
   "version": "3.9.16"
  }
 },
 "nbformat": 4,
 "nbformat_minor": 4
}

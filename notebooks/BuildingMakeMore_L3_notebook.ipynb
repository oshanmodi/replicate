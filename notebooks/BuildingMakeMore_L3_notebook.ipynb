{
 "cells": [
  {
   "cell_type": "code",
   "execution_count": 28,
   "metadata": {},
   "outputs": [],
   "source": [
    "import torch\n",
    "import matplotlib.pyplot as plt\n",
    "import torch.nn.functional as F\n",
    "%matplotlib inline"
   ]
  },
  {
   "cell_type": "code",
   "execution_count": 2,
   "metadata": {},
   "outputs": [],
   "source": [
    "random_seed=12321132"
   ]
  },
  {
   "cell_type": "code",
   "execution_count": 3,
   "metadata": {},
   "outputs": [
    {
     "data": {
      "text/plain": [
       "['emma', 'olivia', 'ava', 'isabella']"
      ]
     },
     "execution_count": 3,
     "metadata": {},
     "output_type": "execute_result"
    }
   ],
   "source": [
    "words = open(\"names.txt\", 'r').read().splitlines()\n",
    "\n",
    "words[:4]"
   ]
  },
  {
   "cell_type": "markdown",
   "metadata": {},
   "source": [
    "## MLP"
   ]
  },
  {
   "cell_type": "markdown",
   "metadata": {},
   "source": [
    "Implementation - \n",
    "\n",
    "1. Create training data - Xs and Ys. Depending upon the context length, we need to create a training data.\n",
    "2. Initialise the weights\n",
    "3. Forward pass -\n",
    "   1. Calculate the logits\n",
    "   2. Calculate the losss  \n",
    "4. Backward pass -\n",
    "   1. Calculate the gradients\n",
    "5. Update the weights"
   ]
  },
  {
   "cell_type": "markdown",
   "metadata": {},
   "source": [
    "### Create Training data"
   ]
  },
  {
   "cell_type": "code",
   "execution_count": 5,
   "metadata": {},
   "outputs": [],
   "source": [
    "chrs = sorted(list(set(''.join(words))))\n",
    "stoi = {s:i+1 for i,s in enumerate(chrs)}\n",
    "stoi['.'] = 0\n",
    "itos = {i:s for s,i in stoi.items()}\n",
    "\n",
    "vocab_size = len(stoi)"
   ]
  },
  {
   "cell_type": "code",
   "execution_count": 10,
   "metadata": {},
   "outputs": [
    {
     "name": "stdout",
     "output_type": "stream",
     "text": [
      "torch.Size([182411, 3]) torch.Size([182411])\n",
      "torch.Size([22843, 3]) torch.Size([22843])\n",
      "torch.Size([22892, 3]) torch.Size([22892])\n"
     ]
    }
   ],
   "source": [
    "block_size = 3 # context length\n",
    "\n",
    "def build_dataset(words):\n",
    "    X, Y = [], []\n",
    "    for w in words:\n",
    "        w += '.'\n",
    "        context = [0] * block_size\n",
    "        for s in w:\n",
    "            ix = stoi[s]\n",
    "            X.append(context)\n",
    "            Y.append(ix)\n",
    "            # print(f'{\"\".join(itos[i] for i in context)} ===> {s}')\n",
    "            context = context[1:] + [ix]\n",
    "    \n",
    "    X = torch.tensor(X)\n",
    "    Y = torch.tensor(Y)\n",
    "    print(X.shape, Y.shape)\n",
    "    return X, Y\n",
    "\n",
    "import random\n",
    "random.seed(random_seed)\n",
    "random.shuffle(words)\n",
    "n1 = int(0.8*len(words))\n",
    "n2 = int(0.9*len(words))\n",
    "\n",
    "Xtr, Ytr   = build_dataset(words[:n1])\n",
    "Xdev, Ydev = build_dataset(words[n1:n2])\n",
    "Xte, Yte   = build_dataset(words[n2:])"
   ]
  },
  {
   "cell_type": "markdown",
   "metadata": {},
   "source": [
    "### Initialise the Weights"
   ]
  },
  {
   "cell_type": "code",
   "execution_count": 50,
   "metadata": {},
   "outputs": [],
   "source": [
    "n_emb = 10      # embedding size for all inputs\n",
    "n_hidden = 200 # count of neurons in hidden layer."
   ]
  },
  {
   "cell_type": "code",
   "execution_count": 51,
   "metadata": {},
   "outputs": [
    {
     "name": "stdout",
     "output_type": "stream",
     "text": [
      "11897\n"
     ]
    }
   ],
   "source": [
    "g = torch.Generator().manual_seed(random_seed)\n",
    "\n",
    "C = torch.randn((vocab_size, n_emb),               generator = g)                # embedding matrix\n",
    "W1 = torch.randn((block_size * n_emb, n_hidden),   generator = g)                # hidden layer weights\n",
    "b1 = torch.randn((n_hidden),                       generator = g)                # hidden layer biases\n",
    "W2 = torch.randn((n_hidden, vocab_size),           generator = g)                # output layer weights\n",
    "b2 = torch.randn((vocab_size),                     generator = g)                # output layer biases\n",
    "\n",
    "parameters = [C, W1, b1, W2, b2]\n",
    "print(sum(p.nelement() for p in parameters))\n",
    "for p in parameters:\n",
    "    p.requires_grad=True"
   ]
  },
  {
   "cell_type": "markdown",
   "metadata": {},
   "source": [
    "### Forward pass"
   ]
  },
  {
   "cell_type": "code",
   "execution_count": 52,
   "metadata": {},
   "outputs": [
    {
     "name": "stdout",
     "output_type": "stream",
     "text": [
      "      0/ 200000 : 21.1907\n",
      "  10000/ 200000 : 3.8238\n",
      "  20000/ 200000 : 4.7174\n",
      "  30000/ 200000 : 4.2764\n",
      "  40000/ 200000 : 2.7409\n",
      "  50000/ 200000 : 1.9296\n",
      "  60000/ 200000 : 2.7317\n",
      "  70000/ 200000 : 2.6177\n",
      "  80000/ 200000 : 2.2628\n",
      "  90000/ 200000 : 3.1175\n",
      " 100000/ 200000 : 2.7993\n",
      " 110000/ 200000 : 2.1162\n",
      " 120000/ 200000 : 2.5089\n",
      " 130000/ 200000 : 2.2619\n",
      " 140000/ 200000 : 2.3801\n",
      " 150000/ 200000 : 2.3790\n",
      " 160000/ 200000 : 1.8732\n",
      " 170000/ 200000 : 2.1140\n",
      " 180000/ 200000 : 2.1292\n",
      " 190000/ 200000 : 1.7274\n"
     ]
    }
   ],
   "source": [
    "max_steps  = 200_000\n",
    "batch_size = 32\n",
    "lossi      = []\n",
    "\n",
    "for i in range(max_steps):\n",
    "    # construct minibatch\n",
    "    ix = torch.randint(0, Xtr.shape[0], (batch_size,), generator = g)\n",
    "    Xb, Yb = Xtr[ix], Ytr[ix]\n",
    "    \n",
    "    # forward pass\n",
    "    emb = C[Xb]\n",
    "    embcat = emb.view(emb.shape[0],-1)\n",
    "    hpreact = embcat @ W1 + b1\n",
    "    h = torch.tanh(hpreact)\n",
    "    logits = h @ W2 + b2\n",
    "    loss = F.cross_entropy(logits, Yb)\n",
    "    \n",
    "    # backward pass\n",
    "    for p in parameters:\n",
    "        p.grad = None\n",
    "    loss.backward()\n",
    "    \n",
    "    # update weights\n",
    "    lr = 10**-.5 if i < 100_000 else 10**-1.5\n",
    "    for p in parameters:\n",
    "        p.data += - lr * p.grad\n",
    "\n",
    "    # track stats\n",
    "    if i % 10_000 ==0:\n",
    "        print(f\"{i:7d}/{max_steps:7d} : {loss.item():.4f}\")\n",
    "    lossi.append(loss.log10().item())\n",
    "    \n",
    "# e = torch.exp(logits)\n",
    "# probs = (e/e.sum(1, keepdim=True))\n",
    "# probs[torch.arange(probs.shape[0]), Ytr]\n",
    "\n",
    "# emb.shape, h.shape, logits.shape, "
   ]
  },
  {
   "cell_type": "code",
   "execution_count": 53,
   "metadata": {},
   "outputs": [
    {
     "name": "stdout",
     "output_type": "stream",
     "text": [
      "train: 2.0979\n",
      "dev: 2.1581\n"
     ]
    }
   ],
   "source": [
    "def split_loss(split):\n",
    "    x, y = {'train': (Xtr, Ytr), \n",
    "            'dev': (Xdev, Ydev),\n",
    "            'test':(Xte, Yte)}[split]\n",
    "    emb = C[x]\n",
    "    embcat = emb.view(emb.shape[0],-1)\n",
    "    hpreact = embcat @ W1 + b1\n",
    "    h = torch.tanh(hpreact)\n",
    "    logits = h @ W2 + b2\n",
    "    loss = F.cross_entropy(logits, y)\n",
    "    print(f'{split}: {loss.item():.4f}')\n",
    "\n",
    "split_loss('train')\n",
    "split_loss('dev')"
   ]
  },
  {
   "cell_type": "code",
   "execution_count": 54,
   "metadata": {},
   "outputs": [
    {
     "data": {
      "text/plain": [
       "[<matplotlib.lines.Line2D at 0x17fe47550>]"
      ]
     },
     "execution_count": 54,
     "metadata": {},
     "output_type": "execute_result"
    },
    {
     "data": {
      "image/png": "[encoded data removed]",
      "text/plain": [
       "<Figure size 640x480 with 1 Axes>"
      ]
     },
     "metadata": {},
     "output_type": "display_data"
    }
   ],
   "source": [
    "plt.plot(lossi)"
   ]
  },
  {
   "cell_type": "code",
   "execution_count": null,
   "metadata": {},
   "outputs": [],
   "source": []
  },
  {
   "cell_type": "code",
   "execution_count": null,
   "metadata": {},
   "outputs": [],
   "source": []
  }
 ],
 "metadata": {
  "kernelspec": {
   "display_name": "Python 3 (ipykernel)",
   "language": "python",
   "name": "python3"
  },
  "language_info": {
   "codemirror_mode": {
    "name": "ipython",
    "version": 3
   },
   "file_extension": ".py",
   "mimetype": "text/x-python",
   "name": "python",
   "nbconvert_exporter": "python",
   "pygments_lexer": "ipython3",
   "version": "3.9.16"
  }
 },
 "nbformat": 4,
 "nbformat_minor": 4
}
